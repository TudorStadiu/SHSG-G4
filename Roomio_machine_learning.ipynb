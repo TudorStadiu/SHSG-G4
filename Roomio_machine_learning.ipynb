{
  "nbformat": 4,
  "nbformat_minor": 0,
  "metadata": {
    "colab": {
      "name": "Roomio_machine_learning.ipynb",
      "provenance": [],
      "collapsed_sections": [],
      "include_colab_link": true
    },
    "kernelspec": {
      "name": "python3",
      "display_name": "Python 3"
    }
  },
  "cells": [
    {
      "cell_type": "markdown",
      "metadata": {
        "id": "view-in-github",
        "colab_type": "text"
      },
      "source": [
        "<a href=\"https://colab.research.google.com/github/TudorStadiu/SHSG-G4/blob/master/Roomio_machine_learning.ipynb\" target=\"_parent\"><img src=\"https://colab.research.google.com/assets/colab-badge.svg\" alt=\"Open In Colab\"/></a>"
      ]
    },
    {
      "cell_type": "markdown",
      "metadata": {
        "id": "0ubV8qgQpc2B"
      },
      "source": [
        "# Roomio machine learning"
      ]
    },
    {
      "cell_type": "markdown",
      "metadata": {
        "id": "FAwuKu6oqqnN"
      },
      "source": [
        "Firstly, we import the relevant modules to perform our operations."
      ]
    },
    {
      "cell_type": "code",
      "metadata": {
        "id": "6GixCQO-qz-b"
      },
      "source": [
        "import pandas as pd"
      ],
      "execution_count": 1,
      "outputs": []
    },
    {
      "cell_type": "markdown",
      "metadata": {
        "id": "d5GZ5WGLpnfr"
      },
      "source": [
        "Firstly, we import the relevant data collected on the thermostat sensors placed in the rooms in order to test our machine learning.\n"
      ]
    },
    {
      "cell_type": "code",
      "metadata": {
        "id": "wT5QG53BpF5K"
      },
      "source": [
        "url = 'https://raw.githubusercontent.com/TudorStadiu/SHSG-G4/master/file.csv'"
      ],
      "execution_count": 2,
      "outputs": []
    },
    {
      "cell_type": "markdown",
      "metadata": {
        "id": "pCLA0iFQqCcJ"
      },
      "source": [
        "We store the data in a Pandas dataframe in order to have a better understanding."
      ]
    },
    {
      "cell_type": "code",
      "metadata": {
        "id": "DQc7csHyqBvg"
      },
      "source": [
        "roomio_dataframe = pd.read_csv(url)"
      ],
      "execution_count": 3,
      "outputs": []
    },
    {
      "cell_type": "markdown",
      "metadata": {
        "id": "OCUE2DgMrIQy"
      },
      "source": [
        "We display the dataframe."
      ]
    },
    {
      "cell_type": "code",
      "metadata": {
        "colab": {
          "base_uri": "https://localhost:8080/",
          "height": 415
        },
        "id": "ug2GdYvMq64Y",
        "outputId": "19af7c68-02aa-416c-d295-8e03f6fa5645"
      },
      "source": [
        "roomio_dataframe"
      ],
      "execution_count": 4,
      "outputs": [
        {
          "output_type": "execute_result",
          "data": {
            "text/html": [
              "<div>\n",
              "<style scoped>\n",
              "    .dataframe tbody tr th:only-of-type {\n",
              "        vertical-align: middle;\n",
              "    }\n",
              "\n",
              "    .dataframe tbody tr th {\n",
              "        vertical-align: top;\n",
              "    }\n",
              "\n",
              "    .dataframe thead th {\n",
              "        text-align: right;\n",
              "    }\n",
              "</style>\n",
              "<table border=\"1\" class=\"dataframe\">\n",
              "  <thead>\n",
              "    <tr style=\"text-align: right;\">\n",
              "      <th></th>\n",
              "      <th>Temperature</th>\n",
              "      <th>Humidity</th>\n",
              "      <th>Light</th>\n",
              "      <th>CO2</th>\n",
              "      <th>HumidityRatio</th>\n",
              "      <th>Occupancy</th>\n",
              "    </tr>\n",
              "  </thead>\n",
              "  <tbody>\n",
              "    <tr>\n",
              "      <th>0</th>\n",
              "      <td>23.700000</td>\n",
              "      <td>26.272000</td>\n",
              "      <td>585.200000</td>\n",
              "      <td>749.200000</td>\n",
              "      <td>0.004764</td>\n",
              "      <td>1</td>\n",
              "    </tr>\n",
              "    <tr>\n",
              "      <th>1</th>\n",
              "      <td>23.718000</td>\n",
              "      <td>26.290000</td>\n",
              "      <td>578.400000</td>\n",
              "      <td>760.400000</td>\n",
              "      <td>0.004773</td>\n",
              "      <td>1</td>\n",
              "    </tr>\n",
              "    <tr>\n",
              "      <th>2</th>\n",
              "      <td>23.730000</td>\n",
              "      <td>26.230000</td>\n",
              "      <td>572.666667</td>\n",
              "      <td>769.666667</td>\n",
              "      <td>0.004765</td>\n",
              "      <td>1</td>\n",
              "    </tr>\n",
              "    <tr>\n",
              "      <th>3</th>\n",
              "      <td>23.722500</td>\n",
              "      <td>26.125000</td>\n",
              "      <td>493.750000</td>\n",
              "      <td>774.750000</td>\n",
              "      <td>0.004744</td>\n",
              "      <td>1</td>\n",
              "    </tr>\n",
              "    <tr>\n",
              "      <th>4</th>\n",
              "      <td>23.754000</td>\n",
              "      <td>26.200000</td>\n",
              "      <td>488.600000</td>\n",
              "      <td>779.000000</td>\n",
              "      <td>0.004767</td>\n",
              "      <td>1</td>\n",
              "    </tr>\n",
              "    <tr>\n",
              "      <th>...</th>\n",
              "      <td>...</td>\n",
              "      <td>...</td>\n",
              "      <td>...</td>\n",
              "      <td>...</td>\n",
              "      <td>...</td>\n",
              "      <td>...</td>\n",
              "    </tr>\n",
              "    <tr>\n",
              "      <th>2660</th>\n",
              "      <td>24.290000</td>\n",
              "      <td>25.700000</td>\n",
              "      <td>808.000000</td>\n",
              "      <td>1150.250000</td>\n",
              "      <td>0.004829</td>\n",
              "      <td>1</td>\n",
              "    </tr>\n",
              "    <tr>\n",
              "      <th>2661</th>\n",
              "      <td>24.330000</td>\n",
              "      <td>25.736000</td>\n",
              "      <td>809.800000</td>\n",
              "      <td>1129.200000</td>\n",
              "      <td>0.004848</td>\n",
              "      <td>1</td>\n",
              "    </tr>\n",
              "    <tr>\n",
              "      <th>2662</th>\n",
              "      <td>24.330000</td>\n",
              "      <td>25.700000</td>\n",
              "      <td>817.000000</td>\n",
              "      <td>1125.800000</td>\n",
              "      <td>0.004841</td>\n",
              "      <td>1</td>\n",
              "    </tr>\n",
              "    <tr>\n",
              "      <th>2663</th>\n",
              "      <td>24.356667</td>\n",
              "      <td>25.700000</td>\n",
              "      <td>813.000000</td>\n",
              "      <td>1123.000000</td>\n",
              "      <td>0.004849</td>\n",
              "      <td>1</td>\n",
              "    </tr>\n",
              "    <tr>\n",
              "      <th>2664</th>\n",
              "      <td>24.408333</td>\n",
              "      <td>25.681667</td>\n",
              "      <td>798.000000</td>\n",
              "      <td>1124.000000</td>\n",
              "      <td>0.004860</td>\n",
              "      <td>1</td>\n",
              "    </tr>\n",
              "  </tbody>\n",
              "</table>\n",
              "<p>2665 rows × 6 columns</p>\n",
              "</div>"
            ],
            "text/plain": [
              "      Temperature   Humidity       Light          CO2  HumidityRatio  Occupancy\n",
              "0       23.700000  26.272000  585.200000   749.200000       0.004764          1\n",
              "1       23.718000  26.290000  578.400000   760.400000       0.004773          1\n",
              "2       23.730000  26.230000  572.666667   769.666667       0.004765          1\n",
              "3       23.722500  26.125000  493.750000   774.750000       0.004744          1\n",
              "4       23.754000  26.200000  488.600000   779.000000       0.004767          1\n",
              "...           ...        ...         ...          ...            ...        ...\n",
              "2660    24.290000  25.700000  808.000000  1150.250000       0.004829          1\n",
              "2661    24.330000  25.736000  809.800000  1129.200000       0.004848          1\n",
              "2662    24.330000  25.700000  817.000000  1125.800000       0.004841          1\n",
              "2663    24.356667  25.700000  813.000000  1123.000000       0.004849          1\n",
              "2664    24.408333  25.681667  798.000000  1124.000000       0.004860          1\n",
              "\n",
              "[2665 rows x 6 columns]"
            ]
          },
          "metadata": {
            "tags": []
          },
          "execution_count": 4
        }
      ]
    },
    {
      "cell_type": "markdown",
      "metadata": {
        "id": "7gnphGMjrL5E"
      },
      "source": [
        "The function describe() is used to visualize the data."
      ]
    },
    {
      "cell_type": "code",
      "metadata": {
        "colab": {
          "base_uri": "https://localhost:8080/",
          "height": 294
        },
        "id": "Wg8OXM1JreEc",
        "outputId": "bc23a089-4f6c-4f50-9505-90e5c6fede7d"
      },
      "source": [
        "roomio_dataframe.describe()"
      ],
      "execution_count": 5,
      "outputs": [
        {
          "output_type": "execute_result",
          "data": {
            "text/html": [
              "<div>\n",
              "<style scoped>\n",
              "    .dataframe tbody tr th:only-of-type {\n",
              "        vertical-align: middle;\n",
              "    }\n",
              "\n",
              "    .dataframe tbody tr th {\n",
              "        vertical-align: top;\n",
              "    }\n",
              "\n",
              "    .dataframe thead th {\n",
              "        text-align: right;\n",
              "    }\n",
              "</style>\n",
              "<table border=\"1\" class=\"dataframe\">\n",
              "  <thead>\n",
              "    <tr style=\"text-align: right;\">\n",
              "      <th></th>\n",
              "      <th>Temperature</th>\n",
              "      <th>Humidity</th>\n",
              "      <th>Light</th>\n",
              "      <th>CO2</th>\n",
              "      <th>HumidityRatio</th>\n",
              "      <th>Occupancy</th>\n",
              "    </tr>\n",
              "  </thead>\n",
              "  <tbody>\n",
              "    <tr>\n",
              "      <th>count</th>\n",
              "      <td>2665.000000</td>\n",
              "      <td>2665.000000</td>\n",
              "      <td>2665.000000</td>\n",
              "      <td>2665.000000</td>\n",
              "      <td>2665.000000</td>\n",
              "      <td>2665.000000</td>\n",
              "    </tr>\n",
              "    <tr>\n",
              "      <th>mean</th>\n",
              "      <td>21.433876</td>\n",
              "      <td>25.353937</td>\n",
              "      <td>193.227556</td>\n",
              "      <td>717.906470</td>\n",
              "      <td>0.004027</td>\n",
              "      <td>0.364728</td>\n",
              "    </tr>\n",
              "    <tr>\n",
              "      <th>std</th>\n",
              "      <td>1.028024</td>\n",
              "      <td>2.436842</td>\n",
              "      <td>250.210906</td>\n",
              "      <td>292.681718</td>\n",
              "      <td>0.000611</td>\n",
              "      <td>0.481444</td>\n",
              "    </tr>\n",
              "    <tr>\n",
              "      <th>min</th>\n",
              "      <td>20.200000</td>\n",
              "      <td>22.100000</td>\n",
              "      <td>0.000000</td>\n",
              "      <td>427.500000</td>\n",
              "      <td>0.003303</td>\n",
              "      <td>0.000000</td>\n",
              "    </tr>\n",
              "    <tr>\n",
              "      <th>25%</th>\n",
              "      <td>20.650000</td>\n",
              "      <td>23.260000</td>\n",
              "      <td>0.000000</td>\n",
              "      <td>466.000000</td>\n",
              "      <td>0.003529</td>\n",
              "      <td>0.000000</td>\n",
              "    </tr>\n",
              "    <tr>\n",
              "      <th>50%</th>\n",
              "      <td>20.890000</td>\n",
              "      <td>25.000000</td>\n",
              "      <td>0.000000</td>\n",
              "      <td>580.500000</td>\n",
              "      <td>0.003815</td>\n",
              "      <td>0.000000</td>\n",
              "    </tr>\n",
              "    <tr>\n",
              "      <th>75%</th>\n",
              "      <td>22.356667</td>\n",
              "      <td>26.856667</td>\n",
              "      <td>442.500000</td>\n",
              "      <td>956.333333</td>\n",
              "      <td>0.004532</td>\n",
              "      <td>1.000000</td>\n",
              "    </tr>\n",
              "    <tr>\n",
              "      <th>max</th>\n",
              "      <td>24.408333</td>\n",
              "      <td>31.472500</td>\n",
              "      <td>1697.250000</td>\n",
              "      <td>1402.250000</td>\n",
              "      <td>0.005378</td>\n",
              "      <td>1.000000</td>\n",
              "    </tr>\n",
              "  </tbody>\n",
              "</table>\n",
              "</div>"
            ],
            "text/plain": [
              "       Temperature     Humidity  ...  HumidityRatio    Occupancy\n",
              "count  2665.000000  2665.000000  ...    2665.000000  2665.000000\n",
              "mean     21.433876    25.353937  ...       0.004027     0.364728\n",
              "std       1.028024     2.436842  ...       0.000611     0.481444\n",
              "min      20.200000    22.100000  ...       0.003303     0.000000\n",
              "25%      20.650000    23.260000  ...       0.003529     0.000000\n",
              "50%      20.890000    25.000000  ...       0.003815     0.000000\n",
              "75%      22.356667    26.856667  ...       0.004532     1.000000\n",
              "max      24.408333    31.472500  ...       0.005378     1.000000\n",
              "\n",
              "[8 rows x 6 columns]"
            ]
          },
          "metadata": {
            "tags": []
          },
          "execution_count": 5
        }
      ]
    },
    {
      "cell_type": "markdown",
      "metadata": {
        "id": "hu-i_icqroiy"
      },
      "source": [
        "corr() is used to find the pairwise correlation of all columns in the dataframe"
      ]
    },
    {
      "cell_type": "code",
      "metadata": {
        "colab": {
          "base_uri": "https://localhost:8080/"
        },
        "id": "7dkWzdsdr7gn",
        "outputId": "38f76dce-e75d-4069-c2bc-af0a8de25342"
      },
      "source": [
        "roomio_dataframe.corr()['Occupancy']"
      ],
      "execution_count": 6,
      "outputs": [
        {
          "output_type": "execute_result",
          "data": {
            "text/plain": [
              "Temperature      0.705784\n",
              "Humidity         0.610764\n",
              "Light            0.927949\n",
              "CO2              0.768030\n",
              "HumidityRatio    0.700330\n",
              "Occupancy        1.000000\n",
              "Name: Occupancy, dtype: float64"
            ]
          },
          "metadata": {
            "tags": []
          },
          "execution_count": 6
        }
      ]
    },
    {
      "cell_type": "markdown",
      "metadata": {
        "id": "f_cl2yrdsOi_"
      },
      "source": [
        "In our analysis, the occupancy column is the dependant variable and the temperature, humidity, light, CO2 and humidity ratio are the independant variables. Therefore, we set the column Occupancy as y and the rest as x. (axis = 1 refers to the column rather than the index)"
      ]
    },
    {
      "cell_type": "code",
      "metadata": {
        "id": "6av2fMd0sCtT"
      },
      "source": [
        "y = roomio_dataframe['Occupancy']\n",
        "X = roomio_dataframe.drop('Occupancy', axis = 1)"
      ],
      "execution_count": 7,
      "outputs": []
    },
    {
      "cell_type": "markdown",
      "metadata": {
        "id": "FaE_Fh3dtRQH"
      },
      "source": [
        "In order to test provide customers with the highest accuracy possible, we run our code using 3 different machine learning approach. The first one being tested in the linear regression, then we assess the decision tree model and lastly the random forest approach."
      ]
    },
    {
      "cell_type": "markdown",
      "metadata": {
        "id": "ZuUQmAZnt-BD"
      },
      "source": [
        "In order to run the linear regression, we need to import the relevant modules.\n",
        "\n",
        "'train_test_split' splits arrays or matrices into random train and test subsets. We use 80% of data for training and 20% for testing using 'test_size'. 'random_state' ensures that randomly selected data in train and test will not change every time we run the code. "
      ]
    },
    {
      "cell_type": "code",
      "metadata": {
        "id": "SIm-RitIt84A"
      },
      "source": [
        "from sklearn.model_selection import train_test_split\n",
        "x_train,x_test,y_train,y_test=train_test_split(x,y,random_state=0,test_size=0.2)"
      ],
      "execution_count": 8,
      "outputs": []
    },
    {
      "cell_type": "markdown",
      "metadata": {
        "id": "Lz_veBWdvnxr"
      },
      "source": [
        "Moreover, we import relevant function for the linear regression\n",
        "\n"
      ]
    },
    {
      "cell_type": "code",
      "metadata": {
        "id": "sZGsMzxPtSIJ"
      },
      "source": [
        "from sklearn.linear_model import LogisticRegression\n",
        "from sklearn.metrics import accuracy_score"
      ],
      "execution_count": 9,
      "outputs": []
    },
    {
      "cell_type": "markdown",
      "metadata": {
        "id": "b16AwsSpwuLE"
      },
      "source": [
        "We create an instance of the class logistic Regression called 'logit'."
      ]
    },
    {
      "cell_type": "code",
      "metadata": {
        "id": "77kSe3gov1bw"
      },
      "source": [
        "logit =LogisticRegression()"
      ],
      "execution_count": 10,
      "outputs": []
    },
    {
      "cell_type": "markdown",
      "metadata": {
        "id": "TWdEj_rRxGCy"
      },
      "source": [
        "The method 'fit()' is used to fit the model with our training data. Linear regression uses the relationship between the data-points to draw a straight line through all them.\n",
        "\n",
        "This line can be used to predict future values."
      ]
    },
    {
      "cell_type": "code",
      "metadata": {
        "colab": {
          "base_uri": "https://localhost:8080/"
        },
        "id": "2w_KyowhxU9o",
        "outputId": "2da1fa09-f5c0-41ae-d04f-74ba24853dc7"
      },
      "source": [
        "logit.fit(x_train,y_train)"
      ],
      "execution_count": 11,
      "outputs": [
        {
          "output_type": "execute_result",
          "data": {
            "text/plain": [
              "LogisticRegression(C=1.0, class_weight=None, dual=False, fit_intercept=True,\n",
              "                   intercept_scaling=1, l1_ratio=None, max_iter=100,\n",
              "                   multi_class='auto', n_jobs=None, penalty='l2',\n",
              "                   random_state=None, solver='lbfgs', tol=0.0001, verbose=0,\n",
              "                   warm_start=False)"
            ]
          },
          "metadata": {
            "tags": []
          },
          "execution_count": 11
        }
      ]
    },
    {
      "cell_type": "markdown",
      "metadata": {
        "id": "cQQO8ZnFxZb1"
      },
      "source": [
        "Now that we used our model to test the test_x data and store our prediction in a variable called 'logit_pred_y'."
      ]
    },
    {
      "cell_type": "code",
      "metadata": {
        "id": "g3oYTlBmyUct"
      },
      "source": [
        "logit_pred_y = logit.predict(x_test)"
      ],
      "execution_count": 12,
      "outputs": []
    },
    {
      "cell_type": "markdown",
      "metadata": {
        "id": "p85-UdR6yTlZ"
      },
      "source": [
        "We compare our results with the actual results and obtain the probability of finding if the room is occupied or not using the linear regression."
      ]
    },
    {
      "cell_type": "code",
      "metadata": {
        "colab": {
          "base_uri": "https://localhost:8080/"
        },
        "id": "wOvxtVfkywAt",
        "outputId": "d8a9fcaf-e8a4-4b64-8296-d917530df6c6"
      },
      "source": [
        "logit_results = accuracy_score(y_test,logit_pred_y)\n",
        "logit_results"
      ],
      "execution_count": 13,
      "outputs": [
        {
          "output_type": "execute_result",
          "data": {
            "text/plain": [
              "0.9774859287054409"
            ]
          },
          "metadata": {
            "tags": []
          },
          "execution_count": 13
        }
      ]
    },
    {
      "cell_type": "markdown",
      "metadata": {
        "id": "T4VQIcQ5y4VL"
      },
      "source": [
        "The second approach we used is called 'decision tree'.\n",
        "\n",
        "First, we import the relevant modules."
      ]
    },
    {
      "cell_type": "code",
      "metadata": {
        "id": "N3T788M8zbuN"
      },
      "source": [
        "from sklearn import tree\n",
        "from sklearn.tree import DecisionTreeClassifier"
      ],
      "execution_count": 14,
      "outputs": []
    },
    {
      "cell_type": "markdown",
      "metadata": {
        "id": "J6ylJgh5zgNk"
      },
      "source": [
        "Because we already categorized the independant and dependant variables we can reuse these variables. \n",
        "\n",
        "The second step is to create an instance of the class 'DecisionTreeClassifier()' and call it 'dtc'."
      ]
    },
    {
      "cell_type": "code",
      "metadata": {
        "id": "DIhT_vNo0GKJ"
      },
      "source": [
        "decision_tree = DecisionTreeClassifier()"
      ],
      "execution_count": 15,
      "outputs": []
    },
    {
      "cell_type": "markdown",
      "metadata": {
        "id": "AbFTomBc9bmR"
      },
      "source": [
        "Third, we create an image file which shows the generated decision tree. That file is downloaded to the local computer. Otherwise the resulting quality would be too bad."
      ]
    },
    {
      "cell_type": "code",
      "metadata": {
        "id": "9w9Cw2ph8LJz",
        "outputId": "9457b580-2b17-4548-8900-27abcef409c5",
        "colab": {
          "base_uri": "https://localhost:8080/",
          "height": 258
        }
      },
      "source": [
        "import pydotplus\r\n",
        "import matplotlib.pyplot as plt\r\n",
        "import matplotlib.image as pltimg\r\n",
        "from google.colab import files\r\n",
        "\r\n",
        "data = tree.export_graphviz(decision_tree, out_file=None, feature_names= ['Temperature', 'Humidity', 'Light','CO2', 'HumidityRatio'])\r\n",
        "graph = pydotplus.graph_from_dot_data(data)\r\n",
        "graph.write_png('mydecisiontree.png')\r\n",
        "\r\n",
        "img=pltimg.imread('mydecisiontree.png')\r\n",
        "imgplot = plt.imshow(img)\r\n",
        "plt.show()\r\n",
        "files.download(\"mydecisiontree.png\")"
      ],
      "execution_count": 23,
      "outputs": [
        {
          "output_type": "display_data",
          "data": {
            "image/png": "[encoded data removed]",
            "text/plain": [
              "<Figure size 432x288 with 1 Axes>"
            ]
          },
          "metadata": {
            "tags": [],
            "needs_background": "light"
          }
        },
        {
          "output_type": "display_data",
          "data": {
            "application/javascript": [
              "\n",
              "    async function download(id, filename, size) {\n",
              "      if (!google.colab.kernel.accessAllowed) {\n",
              "        return;\n",
              "      }\n",
              "      const div = document.createElement('div');\n",
              "      const label = document.createElement('label');\n",
              "      label.textContent = `Downloading \"${filename}\": `;\n",
              "      div.appendChild(label);\n",
              "      const progress = document.createElement('progress');\n",
              "      progress.max = size;\n",
              "      div.appendChild(progress);\n",
              "      document.body.appendChild(div);\n",
              "\n",
              "      const buffers = [];\n",
              "      let downloaded = 0;\n",
              "\n",
              "      const channel = await google.colab.kernel.comms.open(id);\n",
              "      // Send a message to notify the kernel that we're ready.\n",
              "      channel.send({})\n",
              "\n",
              "      for await (const message of channel.messages) {\n",
              "        // Send a message to notify the kernel that we're ready.\n",
              "        channel.send({})\n",
              "        if (message.buffers) {\n",
              "          for (const buffer of message.buffers) {\n",
              "            buffers.push(buffer);\n",
              "            downloaded += buffer.byteLength;\n",
              "            progress.value = downloaded;\n",
              "          }\n",
              "        }\n",
              "      }\n",
              "      const blob = new Blob(buffers, {type: 'application/binary'});\n",
              "      const a = document.createElement('a');\n",
              "      a.href = window.URL.createObjectURL(blob);\n",
              "      a.download = filename;\n",
              "      div.appendChild(a);\n",
              "      a.click();\n",
              "      div.remove();\n",
              "    }\n",
              "  "
            ],
            "text/plain": [
              "<IPython.core.display.Javascript object>"
            ]
          },
          "metadata": {
            "tags": []
          }
        },
        {
          "output_type": "display_data",
          "data": {
            "application/javascript": [
              "download(\"download_35e42dda-1690-4516-9117-4552c78b8c86\", \"mydecisiontree.png\", 274646)"
            ],
            "text/plain": [
              "<IPython.core.display.Javascript object>"
            ]
          },
          "metadata": {
            "tags": []
          }
        }
      ]
    },
    {
      "cell_type": "markdown",
      "metadata": {
        "id": "4Nm7hEX80bj7"
      },
      "source": [
        "The class also has a method 'fit()' that fit the model with our training data.\n",
        "\n",
        "We also use the method 'predict()' to test our model and store the results in the variable 'dtree_pred_y'."
      ]
    },
    {
      "cell_type": "code",
      "metadata": {
        "id": "St4avtoM0l7R"
      },
      "source": [
        "decision_tree.fit(x_train, y_train)\n",
        "dtree_pred_y = decision_tree.predict(x_test)\n",
        "\n"
      ],
      "execution_count": 16,
      "outputs": []
    },
    {
      "cell_type": "markdown",
      "metadata": {
        "id": "OkOidHdg1WFk"
      },
      "source": [
        "Lasty, we can assess our results with the actual results and display the probability of finding if a room is occupied using the decision tree approach."
      ]
    },
    {
      "cell_type": "code",
      "metadata": {
        "colab": {
          "base_uri": "https://localhost:8080/"
        },
        "id": "zRXbxb0R1jFd",
        "outputId": "3bc2bef1-d35f-45df-d1ca-cdafe84499ce"
      },
      "source": [
        "dtree_results = accuracy_score(y_test,dtree_pred_y)\n",
        "dtree_results"
      ],
      "execution_count": null,
      "outputs": [
        {
          "output_type": "execute_result",
          "data": {
            "text/plain": [
              "0.9812382739212008"
            ]
          },
          "metadata": {
            "tags": []
          },
          "execution_count": 31
        }
      ]
    },
    {
      "cell_type": "markdown",
      "metadata": {
        "id": "TkvVFIN41zuw"
      },
      "source": [
        "The last approach is called random forest.\n",
        "\n",
        "Firstly, we import the relevant module."
      ]
    },
    {
      "cell_type": "code",
      "metadata": {
        "id": "EMM3Ocq119d3"
      },
      "source": [
        "from sklearn.ensemble import RandomForestClassifier"
      ],
      "execution_count": null,
      "outputs": []
    },
    {
      "cell_type": "markdown",
      "metadata": {
        "id": "EjpXKW6r2CZH"
      },
      "source": [
        "We create an instance of the class 'RandomForestClassifier()' called 'randforest'."
      ]
    },
    {
      "cell_type": "code",
      "metadata": {
        "id": "G4oORGry2E8g"
      },
      "source": [
        "randforest=RandomForestClassifier()"
      ],
      "execution_count": null,
      "outputs": []
    },
    {
      "cell_type": "markdown",
      "metadata": {
        "id": "OBcsBiMp2num"
      },
      "source": [
        "As with the other approaches, we use the methods 'fit()' to fit the model with our training data before using the function predict to test our model with the testing data."
      ]
    },
    {
      "cell_type": "code",
      "metadata": {
        "id": "-9uyYDsf27c2"
      },
      "source": [
        "randforest.fit(x_train,y_train)\n",
        "randforest_pred_y = randforest.predict(x_test)"
      ],
      "execution_count": null,
      "outputs": []
    },
    {
      "cell_type": "markdown",
      "metadata": {
        "id": "_ksW200m3DmC"
      },
      "source": [
        "Lasty, we compare our results with the actual results."
      ]
    },
    {
      "cell_type": "code",
      "metadata": {
        "colab": {
          "base_uri": "https://localhost:8080/"
        },
        "id": "8lCYa5Mj3A6C",
        "outputId": "5721b01b-e1c5-4a75-c128-fb8771845f8c"
      },
      "source": [
        "randforest_results = accuracy_score(y_test,randforest_pred_y)\n",
        "randforest_results"
      ],
      "execution_count": null,
      "outputs": [
        {
          "output_type": "execute_result",
          "data": {
            "text/plain": [
              "0.9831144465290806"
            ]
          },
          "metadata": {
            "tags": []
          },
          "execution_count": 34
        }
      ]
    },
    {
      "cell_type": "markdown",
      "metadata": {
        "id": "AeFliQVO3MKf"
      },
      "source": [
        "Based on the results of the 3 approaches, it seems that the random forest model is slighlty better than the two other approaches to predict the occupancy of a room based on the temperature, humidity, light, CO2 and humidity ratio."
      ]
    }
  ]
}