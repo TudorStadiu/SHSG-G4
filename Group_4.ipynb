{
  "nbformat": 4,
  "nbformat_minor": 0,
  "metadata": {
    "colab": {
      "name": "Group-4.ipynb",
      "provenance": [],
      "authorship_tag": "ABX9TyMzHMJFngG7Z60zYxOMKT4R",
      "include_colab_link": true
    },
    "kernelspec": {
      "name": "python3",
      "display_name": "Python 3"
    }
  },
  "cells": [
    {
      "cell_type": "markdown",
      "metadata": {
        "id": "view-in-github",
        "colab_type": "text"
      },
      "source": [
        "<a href=\"https://colab.research.google.com/github/TudorStadiu/SHSG-G4/blob/master/Group_4.ipynb\" target=\"_parent\"><img src=\"https://colab.research.google.com/assets/colab-badge.svg\" alt=\"Open In Colab\"/></a>"
      ]
    },
    {
      "cell_type": "markdown",
      "metadata": {
        "id": "Rwn8-_bLDoQg"
      },
      "source": [
        "Testing"
      ]
    },
    {
      "cell_type": "markdown",
      "metadata": {
        "id": "76BrnotRFWuj"
      },
      "source": [
        "Test again"
      ]
    },
    {
      "cell_type": "code",
      "metadata": {
        "colab": {
          "base_uri": "https://localhost:8080/"
        },
        "id": "slK7OrS0Dl8b",
        "outputId": "cd05d37f-8866-4d7e-d5b6-6563a89c0107"
      },
      "source": [
        "seconds_in_a_day = 24 * 60 * 60\r\n",
        "seconds_in_a_day"
      ],
      "execution_count": 1,
      "outputs": [
        {
          "output_type": "execute_result",
          "data": {
            "text/plain": [
              "86400"
            ]
          },
          "metadata": {
            "tags": []
          },
          "execution_count": 1
        }
      ]
    }
  ]
}